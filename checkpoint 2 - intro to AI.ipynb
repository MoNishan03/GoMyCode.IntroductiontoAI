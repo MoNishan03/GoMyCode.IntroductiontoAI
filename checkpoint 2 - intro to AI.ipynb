{
 "cells": [
  {
   "cell_type": "code",
   "execution_count": null,
   "id": "f7bd8dac",
   "metadata": {},
   "outputs": [],
   "source": [
    "\"\"\"\n",
    "Question 1\n",
    "\n",
    "Write a program that will find all numbers which are divisible by 7 but are not a multiple of 5, \n",
    "between 2000 and 3200 (both included). The numbers obtained should be printed in a list.\n",
    "Hint: Consider using the range(#begin, #end) method.\n",
    "\"\"\""
   ]
  },
  {
   "cell_type": "code",
   "execution_count": 19,
   "id": "165eb877",
   "metadata": {},
   "outputs": [
    {
     "name": "stdout",
     "output_type": "stream",
     "text": [
      "[2002, 2009, 2016, 2023, 2037, 2044, 2051, 2058, 2072, 2079, 2086, 2093, 2107, 2114, 2121, 2128, 2142, 2149, 2156, 2163, 2177, 2184, 2191, 2198, 2212, 2219, 2226, 2233, 2247, 2254, 2261, 2268, 2282, 2289, 2296, 2303, 2317, 2324, 2331, 2338, 2352, 2359, 2366, 2373, 2387, 2394, 2401, 2408, 2422, 2429, 2436, 2443, 2457, 2464, 2471, 2478, 2492, 2499, 2506, 2513, 2527, 2534, 2541, 2548, 2562, 2569, 2576, 2583, 2597, 2604, 2611, 2618, 2632, 2639, 2646, 2653, 2667, 2674, 2681, 2688, 2702, 2709, 2716, 2723, 2737, 2744, 2751, 2758, 2772, 2779, 2786, 2793, 2807, 2814, 2821, 2828, 2842, 2849, 2856, 2863, 2877, 2884, 2891, 2898, 2912, 2919, 2926, 2933, 2947, 2954, 2961, 2968, 2982, 2989, 2996, 3003, 3017, 3024, 3031, 3038, 3052, 3059, 3066, 3073, 3087, 3094, 3101, 3108, 3122, 3129, 3136, 3143, 3157, 3164, 3171, 3178, 3192, 3199]\n"
     ]
    }
   ],
   "source": [
    "List1 = []\n",
    "for i in range(2000,3200 + 1):\n",
    "    if i % 7 == 0 and i%5 != 0:\n",
    "        List1.append(i)\n",
    "    else:\n",
    "        continue\n",
    "\n",
    "print(List1)\n"
   ]
  },
  {
   "cell_type": "code",
   "execution_count": null,
   "id": "f2f8c938",
   "metadata": {},
   "outputs": [],
   "source": [
    "\"\"\"\n",
    "Question 2 \n",
    "\n",
    "Write a program that can compute the factorial of a given number. (The factorial of n is the product of all positive \n",
    "integers less than or equal to n.) For example: For factorial(5)= 5 x 4 x 3 x 2 x 1 the result is 120 (i.e. factorial (0)=1).\n",
    "\"\"\""
   ]
  },
  {
   "cell_type": "code",
   "execution_count": 35,
   "id": "6f979568",
   "metadata": {},
   "outputs": [
    {
     "name": "stdout",
     "output_type": "stream",
     "text": [
      " enter a number: 5\n",
      "120\n"
     ]
    }
   ],
   "source": [
    "n = int(input(\" enter a number: \"))\n",
    "factorial = 1\n",
    "for i in range (1, n+1):\n",
    "        factorial = factorial * i \n",
    "    \n",
    "print(factorial)"
   ]
  },
  {
   "cell_type": "code",
   "execution_count": null,
   "id": "f3e0705a",
   "metadata": {},
   "outputs": [],
   "source": [
    "\"\"\"\n",
    "Question 3 \n",
    "\n",
    "With a given integer number n, write a program to generate a dictionary that contains (i, i*i) such that is an integral number\n",
    "between 1 and n (both included). Then, the program should print the dictionary. Suppose the following input is supplied to \n",
    "the program: 8 Then, the output should be: {1: 1, 2: 4, 3: 9, 4: 16, 5: 25, 6: 36, 7: 49, 8: 64}  \n",
    "\"\"\""
   ]
  },
  {
   "cell_type": "code",
   "execution_count": 8,
   "id": "4a767889",
   "metadata": {},
   "outputs": [
    {
     "name": "stdout",
     "output_type": "stream",
     "text": [
      "please enter a number5\n",
      "{1: 1, 2: 4, 3: 9, 4: 16, 5: 25}\n"
     ]
    }
   ],
   "source": [
    "n = int(input(\"please enter a number\"))\n",
    "dict1= {}\n",
    "for i in range(1, n+1):\n",
    "    dict1[i]=i*i\n",
    "print(dict1)"
   ]
  },
  {
   "cell_type": "code",
   "execution_count": null,
   "id": "2487f8d5",
   "metadata": {},
   "outputs": [],
   "source": [
    "\"\"\"\n",
    "Question 4 \n",
    "\n",
    "Given a non-empty string and an integral n, return a new string where the char at index n has been removed. \n",
    "The value of n will be a valid index of a char in the original string (i.e. n will be in the range 0..len(str)-1 inclusive). \n",
    "\n",
    "missing_char('kitten', 1) → 'ktten'    for example here we remove \"i\" which is located in the index 1\n",
    "\n",
    "missing_char('kitten', 0) → 'itten'   here we remove \"k\" which is in the index 0\n",
    "\n",
    "missing_char('kitten', 4) → 'kittn'   here we remove \"e\" which is in the index 4\n",
    "\"\"\""
   ]
  },
  {
   "cell_type": "code",
   "execution_count": 7,
   "id": "0f5e3893",
   "metadata": {},
   "outputs": [
    {
     "name": "stdout",
     "output_type": "stream",
     "text": [
      "please enter any word: hello\n",
      "please enter any number: 1\n",
      "before removing the charatcter:  hello\n",
      "after removing the charatcter:  hllo\n"
     ]
    }
   ],
   "source": [
    "str1 = str(input(\"please enter any word: \"))\n",
    "n = int(input(\"please enter any number: \"))\n",
    "str2 = str1[:n] + str1[n+1:]\n",
    "\n",
    "print(\"before removing the charatcter: \", str1)\n",
    "print(\"after removing the charatcter: \", str2)"
   ]
  },
  {
   "cell_type": "code",
   "execution_count": null,
   "id": "a91a99cf",
   "metadata": {},
   "outputs": [],
   "source": [
    "\"\"\"\n",
    "Question 5 \n",
    "\n",
    "Write a NumPy program to convert a NumPy array into a Python list structure.\n",
    "\n",
    "Expected output: \n",
    "\n",
    "Original array elements: [[0 1] [2 3] [4 5]] \n",
    "\n",
    "Array to list: [[0, 1], [2, 3], [4, 5]] \n",
    "\n",
    "Hint: We can use the to_list() function to ensure the conversion.\n",
    "\"\"\""
   ]
  },
  {
   "cell_type": "code",
   "execution_count": 2,
   "id": "6d671cda",
   "metadata": {},
   "outputs": [
    {
     "name": "stdout",
     "output_type": "stream",
     "text": [
      "array:  [1 2 3]\n",
      "list:  [1, 2, 3]\n"
     ]
    }
   ],
   "source": [
    "import numpy as np\n",
    "arr1 = np.array([1,2,3])\n",
    "print(\"array: \", arr1)\n",
    "list1 = arr1.tolist()\n",
    "print(\"list: \",list1)\n"
   ]
  },
  {
   "cell_type": "code",
   "execution_count": null,
   "id": "33c990f7",
   "metadata": {},
   "outputs": [],
   "source": [
    "\"\"\"\n",
    "Write a NumPy program to compute the covariance matrix of two given arrays. \n",
    "\n",
    "Original array1: [0 1 2] \n",
    "\n",
    "Original array2: [2 1 0] \n",
    "\n",
    "Covariance matrix of the said arrays: [[ 1. -1.] [-1. 1.]]\n",
    "\n",
    "Hint: We can use the np.cov() function to calculate the covariance between these two arrays\n",
    "\"\"\""
   ]
  },
  {
   "cell_type": "code",
   "execution_count": 5,
   "id": "7f048381",
   "metadata": {},
   "outputs": [
    {
     "name": "stdout",
     "output_type": "stream",
     "text": [
      "array 1:  [1 2 3]\n",
      "array 2:  [3 2 1]\n",
      "Covariance matrix of the said arrays: [[ 1. -1.]\n",
      " [-1.  1.]]\n"
     ]
    }
   ],
   "source": [
    "import numpy as np\n",
    "arr1 = np.array([1,2,3])\n",
    "print(\"array 1: \", arr1)\n",
    "arr2 = np.array([3,2,1])\n",
    "print(\"array 2: \", arr2)\n",
    "print(\"Covariance matrix of the said arrays:\", np.cov(arr1, arr2))"
   ]
  },
  {
   "cell_type": "code",
   "execution_count": null,
   "id": "34ec267f",
   "metadata": {},
   "outputs": [],
   "source": [
    "\"\"\"\n",
    "Question 7\n",
    "\n",
    "Question: Write a program that calculates and prints the value according to the given formula: \n",
    "Q= Square root of [(2 * C * D)/H] \n",
    "\n",
    "The following are the fixed values of C and H: C is 50. H is 30. \n",
    "\n",
    "D is the variable whose values should be input into your program in a comma-separated sequence. \n",
    "(That means D contains more than value)\n",
    "\n",
    "Example: Let's assume the following comma-separated input sequence is given to the program:\n",
    "100,150,180 The output of the program should be 18,22,24 \n",
    "\n",
    "To further explain this, we will obtain a result for each value of D:  Q1= Square root of [(2 * C * 100)/H] =18,\n",
    "Q2= Square root of [(2 * C * 150)/H] = 22 and Q3 = Square root of [(2 * C * 180)/H]  = 24\n",
    "\n",
    "Hint: If the output received is in decimal form, it should be rounded off to its nearest value. For example,\n",
    "if the output received is 26.0, it should be printed as 26. In case of input data being supplied to the question,\n",
    "it should be assumed to be a console input. "
   ]
  },
  {
   "cell_type": "code",
   "execution_count": 16,
   "id": "28a2f332",
   "metadata": {},
   "outputs": [
    {
     "name": "stdout",
     "output_type": "stream",
     "text": [
      "Q = math.sqrt((2 * C * D)/H)\n",
      "Q = math.sqrt((2 * 50 * 100 )/ 30 )\n",
      "Q =  18\n",
      "_____\n",
      "Q = math.sqrt((2 * C * D)/H)\n",
      "Q = math.sqrt((2 * 50 * 150 )/ 30 )\n",
      "Q =  22\n",
      "_____\n",
      "Q = math.sqrt((2 * C * D)/H)\n",
      "Q = math.sqrt((2 * 50 * 200 )/ 30 )\n",
      "Q =  26\n",
      "_____\n"
     ]
    }
   ],
   "source": [
    "import pandas as pd\n",
    "import math\n",
    "C = 50\n",
    "H = 30\n",
    "df = pd.read_csv(\"E:\\D - Sheet1.csv\")\n",
    "list1 = df.values.tolist()\n",
    "list2 = []\n",
    "for [sublist] in list1:\n",
    "    list2.append(int(sublist))\n",
    "list2\n",
    "for D in list2:\n",
    "    Q = math.sqrt((2 * C * D)/H)\n",
    "    print(\"Q = math.sqrt((2 * C * D)/H)\")\n",
    "    print(\"Q = math.sqrt((2 *\", C ,\"*\" ,D , \")/\", H ,\")\")\n",
    "    print(\"Q = \", round(Q))\n",
    "    print(\"_____\")"
   ]
  }
 ],
 "metadata": {
  "kernelspec": {
   "display_name": "Python 3 (ipykernel)",
   "language": "python",
   "name": "python3"
  },
  "language_info": {
   "codemirror_mode": {
    "name": "ipython",
    "version": 3
   },
   "file_extension": ".py",
   "mimetype": "text/x-python",
   "name": "python",
   "nbconvert_exporter": "python",
   "pygments_lexer": "ipython3",
   "version": "3.9.13"
  }
 },
 "nbformat": 4,
 "nbformat_minor": 5
}
