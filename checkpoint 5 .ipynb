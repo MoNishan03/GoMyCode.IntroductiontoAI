{
 "cells": [
  {
   "cell_type": "code",
   "execution_count": 14,
   "id": "a30205e6",
   "metadata": {},
   "outputs": [],
   "source": [
    "import pandas as pd\n",
    "import seaborn as sns\n",
    "import matplotlib.pyplot as plt\n",
    "\n",
    "from sklearn.model_selection import train_test_split\n",
    "from sklearn.linear_model import LogisticRegression\n",
    "from sklearn import metrics\n",
    "from sklearn.metrics import classification_report\n",
    "from sklearn.metrics import roc_curve, auc"
   ]
  },
  {
   "cell_type": "code",
   "execution_count": 15,
   "id": "6bdbec5e",
   "metadata": {},
   "outputs": [
    {
     "data": {
      "text/plain": [
       "id                   0\n",
       "age                  0\n",
       "education          105\n",
       "sex                  0\n",
       "is_smoking           0\n",
       "cigsPerDay          29\n",
       "BPMeds              53\n",
       "prevalentStroke      0\n",
       "prevalentHyp         0\n",
       "diabetes             0\n",
       "totChol             50\n",
       "sysBP                0\n",
       "diaBP                0\n",
       "BMI                 19\n",
       "heartRate            1\n",
       "glucose            388\n",
       "TenYearCHD         848\n",
       "dtype: int64"
      ]
     },
     "execution_count": 15,
     "metadata": {},
     "output_type": "execute_result"
    }
   ],
   "source": [
    "data = pd.read_csv(\"E:\\logistic_regression_dataset.csv\")\n",
    "data.isnull().sum() "
   ]
  },
  {
   "cell_type": "code",
   "execution_count": 16,
   "id": "93be56d9",
   "metadata": {},
   "outputs": [],
   "source": [
    "data['is_smoking'] = data['is_smoking'].replace({'YES': 1, 'NO': 0})"
   ]
  },
  {
   "cell_type": "code",
   "execution_count": 17,
   "id": "15b7a552",
   "metadata": {},
   "outputs": [],
   "source": [
    "x = data[['age']]\n",
    "y = data['is_smoking']"
   ]
  },
  {
   "cell_type": "code",
   "execution_count": 18,
   "id": "8a4d8d4e",
   "metadata": {},
   "outputs": [],
   "source": [
    "x_train, x_test, y_train, y_test = train_test_split(x, y, test_size=0.25, random_state=0)  "
   ]
  },
  {
   "cell_type": "code",
   "execution_count": 19,
   "id": "6e3995e1",
   "metadata": {},
   "outputs": [
    {
     "name": "stdout",
     "output_type": "stream",
     "text": [
      "Accuracy=0.598113\n"
     ]
    }
   ],
   "source": [
    "logreg = LogisticRegression()   \n",
    "logreg.fit(x_train, y_train)\n",
    "y_pred = logreg.predict(x_test)    \n",
    "print(\"Accuracy={:2f}\".format(logreg.score(x_test, y_test)))"
   ]
  },
  {
   "cell_type": "code",
   "execution_count": 21,
   "id": "90334ef5",
   "metadata": {},
   "outputs": [
    {
     "data": {
      "text/html": [
       "<div>\n",
       "<style scoped>\n",
       "    .dataframe tbody tr th:only-of-type {\n",
       "        vertical-align: middle;\n",
       "    }\n",
       "\n",
       "    .dataframe tbody tr th {\n",
       "        vertical-align: top;\n",
       "    }\n",
       "\n",
       "    .dataframe thead th {\n",
       "        text-align: right;\n",
       "    }\n",
       "</style>\n",
       "<table border=\"1\" class=\"dataframe\">\n",
       "  <thead>\n",
       "    <tr style=\"text-align: right;\">\n",
       "      <th></th>\n",
       "      <th>id</th>\n",
       "      <th>age</th>\n",
       "      <th>education</th>\n",
       "      <th>sex</th>\n",
       "      <th>is_smoking</th>\n",
       "      <th>cigsPerDay</th>\n",
       "      <th>BPMeds</th>\n",
       "      <th>prevalentStroke</th>\n",
       "      <th>prevalentHyp</th>\n",
       "      <th>diabetes</th>\n",
       "      <th>totChol</th>\n",
       "      <th>sysBP</th>\n",
       "      <th>diaBP</th>\n",
       "      <th>BMI</th>\n",
       "      <th>heartRate</th>\n",
       "      <th>glucose</th>\n",
       "      <th>TenYearCHD</th>\n",
       "    </tr>\n",
       "  </thead>\n",
       "  <tbody>\n",
       "    <tr>\n",
       "      <th>0</th>\n",
       "      <td>0</td>\n",
       "      <td>64</td>\n",
       "      <td>2.0</td>\n",
       "      <td>F</td>\n",
       "      <td>1</td>\n",
       "      <td>3.0</td>\n",
       "      <td>0.0</td>\n",
       "      <td>0</td>\n",
       "      <td>0</td>\n",
       "      <td>0</td>\n",
       "      <td>221.0</td>\n",
       "      <td>148.0</td>\n",
       "      <td>85.0</td>\n",
       "      <td>NaN</td>\n",
       "      <td>90.0</td>\n",
       "      <td>80.0</td>\n",
       "      <td>1.0</td>\n",
       "    </tr>\n",
       "    <tr>\n",
       "      <th>1</th>\n",
       "      <td>1</td>\n",
       "      <td>36</td>\n",
       "      <td>4.0</td>\n",
       "      <td>M</td>\n",
       "      <td>0</td>\n",
       "      <td>0.0</td>\n",
       "      <td>0.0</td>\n",
       "      <td>0</td>\n",
       "      <td>1</td>\n",
       "      <td>0</td>\n",
       "      <td>212.0</td>\n",
       "      <td>168.0</td>\n",
       "      <td>98.0</td>\n",
       "      <td>29.77</td>\n",
       "      <td>72.0</td>\n",
       "      <td>75.0</td>\n",
       "      <td>0.0</td>\n",
       "    </tr>\n",
       "    <tr>\n",
       "      <th>2</th>\n",
       "      <td>2</td>\n",
       "      <td>46</td>\n",
       "      <td>1.0</td>\n",
       "      <td>F</td>\n",
       "      <td>1</td>\n",
       "      <td>10.0</td>\n",
       "      <td>0.0</td>\n",
       "      <td>0</td>\n",
       "      <td>0</td>\n",
       "      <td>0</td>\n",
       "      <td>250.0</td>\n",
       "      <td>116.0</td>\n",
       "      <td>71.0</td>\n",
       "      <td>20.35</td>\n",
       "      <td>88.0</td>\n",
       "      <td>94.0</td>\n",
       "      <td>0.0</td>\n",
       "    </tr>\n",
       "    <tr>\n",
       "      <th>3</th>\n",
       "      <td>3</td>\n",
       "      <td>50</td>\n",
       "      <td>1.0</td>\n",
       "      <td>M</td>\n",
       "      <td>1</td>\n",
       "      <td>20.0</td>\n",
       "      <td>0.0</td>\n",
       "      <td>0</td>\n",
       "      <td>1</td>\n",
       "      <td>0</td>\n",
       "      <td>233.0</td>\n",
       "      <td>158.0</td>\n",
       "      <td>88.0</td>\n",
       "      <td>28.26</td>\n",
       "      <td>68.0</td>\n",
       "      <td>94.0</td>\n",
       "      <td>1.0</td>\n",
       "    </tr>\n",
       "    <tr>\n",
       "      <th>4</th>\n",
       "      <td>4</td>\n",
       "      <td>64</td>\n",
       "      <td>1.0</td>\n",
       "      <td>F</td>\n",
       "      <td>1</td>\n",
       "      <td>30.0</td>\n",
       "      <td>0.0</td>\n",
       "      <td>0</td>\n",
       "      <td>0</td>\n",
       "      <td>0</td>\n",
       "      <td>241.0</td>\n",
       "      <td>136.5</td>\n",
       "      <td>85.0</td>\n",
       "      <td>26.42</td>\n",
       "      <td>70.0</td>\n",
       "      <td>77.0</td>\n",
       "      <td>0.0</td>\n",
       "    </tr>\n",
       "    <tr>\n",
       "      <th>...</th>\n",
       "      <td>...</td>\n",
       "      <td>...</td>\n",
       "      <td>...</td>\n",
       "      <td>...</td>\n",
       "      <td>...</td>\n",
       "      <td>...</td>\n",
       "      <td>...</td>\n",
       "      <td>...</td>\n",
       "      <td>...</td>\n",
       "      <td>...</td>\n",
       "      <td>...</td>\n",
       "      <td>...</td>\n",
       "      <td>...</td>\n",
       "      <td>...</td>\n",
       "      <td>...</td>\n",
       "      <td>...</td>\n",
       "      <td>...</td>\n",
       "    </tr>\n",
       "    <tr>\n",
       "      <th>4233</th>\n",
       "      <td>4233</td>\n",
       "      <td>46</td>\n",
       "      <td>3.0</td>\n",
       "      <td>F</td>\n",
       "      <td>0</td>\n",
       "      <td>0.0</td>\n",
       "      <td>0.0</td>\n",
       "      <td>0</td>\n",
       "      <td>0</td>\n",
       "      <td>0</td>\n",
       "      <td>277.0</td>\n",
       "      <td>122.5</td>\n",
       "      <td>77.5</td>\n",
       "      <td>27.42</td>\n",
       "      <td>63.0</td>\n",
       "      <td>77.0</td>\n",
       "      <td>NaN</td>\n",
       "    </tr>\n",
       "    <tr>\n",
       "      <th>4234</th>\n",
       "      <td>4234</td>\n",
       "      <td>58</td>\n",
       "      <td>2.0</td>\n",
       "      <td>F</td>\n",
       "      <td>0</td>\n",
       "      <td>0.0</td>\n",
       "      <td>0.0</td>\n",
       "      <td>0</td>\n",
       "      <td>0</td>\n",
       "      <td>0</td>\n",
       "      <td>190.0</td>\n",
       "      <td>132.0</td>\n",
       "      <td>67.0</td>\n",
       "      <td>23.08</td>\n",
       "      <td>65.0</td>\n",
       "      <td>70.0</td>\n",
       "      <td>NaN</td>\n",
       "    </tr>\n",
       "    <tr>\n",
       "      <th>4235</th>\n",
       "      <td>4235</td>\n",
       "      <td>55</td>\n",
       "      <td>1.0</td>\n",
       "      <td>M</td>\n",
       "      <td>0</td>\n",
       "      <td>0.0</td>\n",
       "      <td>0.0</td>\n",
       "      <td>0</td>\n",
       "      <td>0</td>\n",
       "      <td>0</td>\n",
       "      <td>199.0</td>\n",
       "      <td>134.0</td>\n",
       "      <td>80.0</td>\n",
       "      <td>26.41</td>\n",
       "      <td>120.0</td>\n",
       "      <td>NaN</td>\n",
       "      <td>NaN</td>\n",
       "    </tr>\n",
       "    <tr>\n",
       "      <th>4236</th>\n",
       "      <td>4236</td>\n",
       "      <td>45</td>\n",
       "      <td>3.0</td>\n",
       "      <td>F</td>\n",
       "      <td>0</td>\n",
       "      <td>0.0</td>\n",
       "      <td>0.0</td>\n",
       "      <td>0</td>\n",
       "      <td>1</td>\n",
       "      <td>0</td>\n",
       "      <td>231.0</td>\n",
       "      <td>157.5</td>\n",
       "      <td>104.5</td>\n",
       "      <td>22.86</td>\n",
       "      <td>75.0</td>\n",
       "      <td>92.0</td>\n",
       "      <td>NaN</td>\n",
       "    </tr>\n",
       "    <tr>\n",
       "      <th>4237</th>\n",
       "      <td>4237</td>\n",
       "      <td>56</td>\n",
       "      <td>NaN</td>\n",
       "      <td>M</td>\n",
       "      <td>1</td>\n",
       "      <td>25.0</td>\n",
       "      <td>0.0</td>\n",
       "      <td>0</td>\n",
       "      <td>0</td>\n",
       "      <td>0</td>\n",
       "      <td>255.0</td>\n",
       "      <td>138.0</td>\n",
       "      <td>80.0</td>\n",
       "      <td>23.44</td>\n",
       "      <td>67.0</td>\n",
       "      <td>79.0</td>\n",
       "      <td>NaN</td>\n",
       "    </tr>\n",
       "  </tbody>\n",
       "</table>\n",
       "<p>4238 rows × 17 columns</p>\n",
       "</div>"
      ],
      "text/plain": [
       "        id  age  education sex  is_smoking  cigsPerDay  BPMeds  \\\n",
       "0        0   64        2.0   F           1         3.0     0.0   \n",
       "1        1   36        4.0   M           0         0.0     0.0   \n",
       "2        2   46        1.0   F           1        10.0     0.0   \n",
       "3        3   50        1.0   M           1        20.0     0.0   \n",
       "4        4   64        1.0   F           1        30.0     0.0   \n",
       "...    ...  ...        ...  ..         ...         ...     ...   \n",
       "4233  4233   46        3.0   F           0         0.0     0.0   \n",
       "4234  4234   58        2.0   F           0         0.0     0.0   \n",
       "4235  4235   55        1.0   M           0         0.0     0.0   \n",
       "4236  4236   45        3.0   F           0         0.0     0.0   \n",
       "4237  4237   56        NaN   M           1        25.0     0.0   \n",
       "\n",
       "      prevalentStroke  prevalentHyp  diabetes  totChol  sysBP  diaBP    BMI  \\\n",
       "0                   0             0         0    221.0  148.0   85.0    NaN   \n",
       "1                   0             1         0    212.0  168.0   98.0  29.77   \n",
       "2                   0             0         0    250.0  116.0   71.0  20.35   \n",
       "3                   0             1         0    233.0  158.0   88.0  28.26   \n",
       "4                   0             0         0    241.0  136.5   85.0  26.42   \n",
       "...               ...           ...       ...      ...    ...    ...    ...   \n",
       "4233                0             0         0    277.0  122.5   77.5  27.42   \n",
       "4234                0             0         0    190.0  132.0   67.0  23.08   \n",
       "4235                0             0         0    199.0  134.0   80.0  26.41   \n",
       "4236                0             1         0    231.0  157.5  104.5  22.86   \n",
       "4237                0             0         0    255.0  138.0   80.0  23.44   \n",
       "\n",
       "      heartRate  glucose  TenYearCHD  \n",
       "0          90.0     80.0         1.0  \n",
       "1          72.0     75.0         0.0  \n",
       "2          88.0     94.0         0.0  \n",
       "3          68.0     94.0         1.0  \n",
       "4          70.0     77.0         0.0  \n",
       "...         ...      ...         ...  \n",
       "4233       63.0     77.0         NaN  \n",
       "4234       65.0     70.0         NaN  \n",
       "4235      120.0      NaN         NaN  \n",
       "4236       75.0     92.0         NaN  \n",
       "4237       67.0     79.0         NaN  \n",
       "\n",
       "[4238 rows x 17 columns]"
      ]
     },
     "execution_count": 21,
     "metadata": {},
     "output_type": "execute_result"
    }
   ],
   "source": [
    "data"
   ]
  },
  {
   "cell_type": "code",
   "execution_count": 22,
   "id": "0b58576e",
   "metadata": {},
   "outputs": [
    {
     "data": {
      "text/plain": [
       "<AxesSubplot:xlabel='is_smoking', ylabel='age'>"
      ]
     },
     "execution_count": 22,
     "metadata": {},
     "output_type": "execute_result"
    },
    {
     "data": {
      "image/png": "[encoded data removed]",
      "text/plain": [
       "<Figure size 640x480 with 1 Axes>"
      ]
     },
     "metadata": {},
     "output_type": "display_data"
    }
   ],
   "source": [
    "sns.regplot(x='is_smoking',y='age',data=data)"
   ]
  },
  {
   "cell_type": "code",
   "execution_count": 23,
   "id": "4a4b58f7",
   "metadata": {},
   "outputs": [
    {
     "name": "stdout",
     "output_type": "stream",
     "text": [
      "              precision    recall  f1-score   support\n",
      "\n",
      "           0       0.61      0.58      0.60       544\n",
      "           1       0.58      0.61      0.60       516\n",
      "\n",
      "    accuracy                           0.60      1060\n",
      "   macro avg       0.60      0.60      0.60      1060\n",
      "weighted avg       0.60      0.60      0.60      1060\n",
      "\n"
     ]
    }
   ],
   "source": [
    "print(classification_report(y_test,y_pred))"
   ]
  },
  {
   "cell_type": "code",
   "execution_count": 13,
   "id": "e4e5d0c7",
   "metadata": {},
   "outputs": [
    {
     "data": {
      "image/png": "[encoded data removed]",
      "text/plain": [
       "<Figure size 640x480 with 1 Axes>"
      ]
     },
     "metadata": {},
     "output_type": "display_data"
    }
   ],
   "source": [
    "cnf_matrix = metrics.confusion_matrix(y_test, y_pred)\n",
    "cnf_matrix"
   ]
  },
  {
   "cell_type": "code",
   "execution_count": 24,
   "id": "3bfc768c",
   "metadata": {},
   "outputs": [
    {
     "data": {
      "image/png": "[encoded data removed]",
      "text/plain": [
       "<Figure size 640x480 with 1 Axes>"
      ]
     },
     "metadata": {},
     "output_type": "display_data"
    }
   ],
   "source": [
    "y_pred_proba = logreg.predict_proba(x_test)[::,1]\n",
    "fpr, tpr, _ = metrics.roc_curve(y_test,  y_pred_proba)\n",
    "auc = metrics.roc_auc_score(y_test, y_pred_proba)\n",
    "plt.plot(fpr,tpr,label=\"data 1, auc=\"+str(auc))\n",
    "plt.legend(loc=4)\n",
    "plt.show()"
   ]
  }
 ],
 "metadata": {
  "kernelspec": {
   "display_name": "Python 3 (ipykernel)",
   "language": "python",
   "name": "python3"
  },
  "language_info": {
   "codemirror_mode": {
    "name": "ipython",
    "version": 3
   },
   "file_extension": ".py",
   "mimetype": "text/x-python",
   "name": "python",
   "nbconvert_exporter": "python",
   "pygments_lexer": "ipython3",
   "version": "3.9.13"
  }
 },
 "nbformat": 4,
 "nbformat_minor": 5
}
